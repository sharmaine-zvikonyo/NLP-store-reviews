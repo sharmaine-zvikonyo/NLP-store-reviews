{
  "cells": [
    {
      "cell_type": "markdown",
      "metadata": {
        "id": "view-in-github",
        "colab_type": "text"
      },
      "source": [
        "<a href=\"https://colab.research.google.com/github/sharmaine-zvikonyo/NLP-store-reviews/blob/main/NLP_store_reviews_DS_%26_ML.ipynb\" target=\"_parent\"><img src=\"https://colab.research.google.com/assets/colab-badge.svg\" alt=\"Open In Colab\"/></a>"
      ]
    },
    {
      "cell_type": "markdown",
      "metadata": {
        "id": "clDZrN4oxefb"
      },
      "source": [
        "# **Data Loading & Set Up**"
      ]
    },
    {
      "cell_type": "code",
      "execution_count": null,
      "metadata": {
        "id": "E7M7NdE6xdf7"
      },
      "outputs": [],
      "source": [
        "import pandas as pd\n",
        "import numpy as np"
      ]
    },
    {
      "cell_type": "code",
      "execution_count": null,
      "metadata": {
        "colab": {
          "base_uri": "https://localhost:8080/"
        },
        "id": "-ytDecajyuE6",
        "outputId": "631091cd-e203-4ac7-c591-d386dc2d10f2"
      },
      "outputs": [
        {
          "name": "stdout",
          "output_type": "stream",
          "text": [
            "Downloading from https://www.kaggle.com/api/v1/datasets/download/nelgiriyewithana/mcdonalds-store-reviews?dataset_version_number=1...\n"
          ]
        },
        {
          "name": "stderr",
          "output_type": "stream",
          "text": [
            "100%|██████████| 1.78M/1.78M [00:00<00:00, 169MB/s]"
          ]
        },
        {
          "name": "stdout",
          "output_type": "stream",
          "text": [
            "Extracting files...\n",
            "Path to dataset files: /root/.cache/kagglehub/datasets/nelgiriyewithana/mcdonalds-store-reviews/versions/1\n"
          ]
        },
        {
          "name": "stderr",
          "output_type": "stream",
          "text": [
            "\n"
          ]
        }
      ],
      "source": [
        "import kagglehub\n",
        "\n",
        "# Download latest version\n",
        "path = kagglehub.dataset_download(\"nelgiriyewithana/mcdonalds-store-reviews\")\n",
        "\n",
        "print(\"Path to dataset files:\", path)"
      ]
    },
    {
      "cell_type": "code",
      "execution_count": null,
      "metadata": {
        "colab": {
          "base_uri": "https://localhost:8080/"
        },
        "id": "kCd4gxIkM6gP",
        "outputId": "ae2161ed-d5de-4620-e380-75bcf76e38d5"
      },
      "outputs": [
        {
          "name": "stdout",
          "output_type": "stream",
          "text": [
            "['McDonald_s_Reviews.csv']\n"
          ]
        }
      ],
      "source": [
        "import os\n",
        "file_list = os.listdir(path)\n",
        "print(file_list)"
      ]
    },
    {
      "cell_type": "code",
      "execution_count": null,
      "metadata": {
        "colab": {
          "base_uri": "https://localhost:8080/"
        },
        "id": "0k6s4uJqNV23",
        "outputId": "5e85be64-a93d-464f-93f2-0c8ed40921b6"
      },
      "outputs": [
        {
          "name": "stdout",
          "output_type": "stream",
          "text": [
            "   reviewer_id  store_name              category  \\\n",
            "0            1  McDonald's  Fast food restaurant   \n",
            "1            2  McDonald's  Fast food restaurant   \n",
            "2            3  McDonald's  Fast food restaurant   \n",
            "3            4  McDonald's  Fast food restaurant   \n",
            "4            5  McDonald's  Fast food restaurant   \n",
            "\n",
            "                                       store_address  latitude   longitude  \\\n",
            "0  13749 US-183 Hwy, Austin, TX 78750, United States  30.460718 -97.792874   \n",
            "1  13749 US-183 Hwy, Austin, TX 78750, United States  30.460718 -97.792874   \n",
            "2  13749 US-183 Hwy, Austin, TX 78750, United States  30.460718 -97.792874   \n",
            "3  13749 US-183 Hwy, Austin, TX 78750, United States  30.460718 -97.792874   \n",
            "4  13749 US-183 Hwy, Austin, TX 78750, United States  30.460718 -97.792874   \n",
            "\n",
            "  rating_count   review_time  \\\n",
            "0        1,240  3 months ago   \n",
            "1        1,240    5 days ago   \n",
            "2        1,240    5 days ago   \n",
            "3        1,240   a month ago   \n",
            "4        1,240  2 months ago   \n",
            "\n",
            "                                              review   rating  \n",
            "0  Why does it look like someone spit on my food?...   1 star  \n",
            "1  It'd McDonalds. It is what it is as far as the...  4 stars  \n",
            "2  Made a mobile order got to the speaker and che...   1 star  \n",
            "3  My mc. Crispy chicken sandwich was ï¿½ï¿½ï¿½ï¿...  5 stars  \n",
            "4  I repeat my order 3 times in the drive thru, a...   1 star  \n"
          ]
        }
      ],
      "source": [
        "import pandas as pd\n",
        "import os\n",
        "\n",
        "file_name = 'McDonald_s_Reviews.csv'\n",
        "\n",
        "full_file_path = os.path.join(path, file_name)\n",
        "\n",
        "# Try reading with a different encoding\n",
        "df = pd.read_csv(full_file_path, encoding='latin1')\n",
        "\n",
        "print(df.head())"
      ]
    },
    {
      "cell_type": "markdown",
      "metadata": {
        "id": "vIOtIKCGNtkU"
      },
      "source": [
        "# **Data Cleaning**"
      ]
    },
    {
      "cell_type": "code",
      "execution_count": null,
      "metadata": {
        "colab": {
          "base_uri": "https://localhost:8080/"
        },
        "id": "pZMBtM_lN54B",
        "outputId": "cd8f4cf0-86e0-4366-c8de-2d72c36500c1"
      },
      "outputs": [
        {
          "name": "stdout",
          "output_type": "stream",
          "text": [
            "<class 'pandas.core.frame.DataFrame'>\n",
            "RangeIndex: 33396 entries, 0 to 33395\n",
            "Data columns (total 10 columns):\n",
            " #   Column         Non-Null Count  Dtype  \n",
            "---  ------         --------------  -----  \n",
            " 0   reviewer_id    33396 non-null  int64  \n",
            " 1   store_name     33396 non-null  object \n",
            " 2   category       33396 non-null  object \n",
            " 3   store_address  33396 non-null  object \n",
            " 4   latitude       32736 non-null  float64\n",
            " 5   longitude      32736 non-null  float64\n",
            " 6   rating_count   33396 non-null  object \n",
            " 7   review_time    33396 non-null  object \n",
            " 8   review         33396 non-null  object \n",
            " 9   rating         33396 non-null  object \n",
            "dtypes: float64(2), int64(1), object(7)\n",
            "memory usage: 2.5+ MB\n"
          ]
        }
      ],
      "source": [
        "df.info()"
      ]
    },
    {
      "cell_type": "code",
      "execution_count": null,
      "metadata": {
        "colab": {
          "background_save": true
        },
        "id": "a9lQSfApOBx1",
        "outputId": "c2acd206-68d4-4758-90fc-14787e05a4bb"
      },
      "outputs": [
        {
          "data": {
            "application/vnd.google.colaboratory.intrinsic+json": {
              "summary": "{\n  \"name\": \"df\",\n  \"rows\": 8,\n  \"fields\": [\n    {\n      \"column\": \"reviewer_id\",\n      \"properties\": {\n        \"dtype\": \"number\",\n        \"std\": 12035.775178536398,\n        \"min\": 1.0,\n        \"max\": 33396.0,\n        \"num_unique_values\": 6,\n        \"samples\": [\n          33396.0,\n          16698.5,\n          25047.25\n        ],\n        \"semantic_type\": \"\",\n        \"description\": \"\"\n      }\n    },\n    {\n      \"column\": \"latitude \",\n      \"properties\": {\n        \"dtype\": \"number\",\n        \"std\": 11563.127785437966,\n        \"min\": 5.344115552393654,\n        \"max\": 32736.0,\n        \"num_unique_values\": 8,\n        \"samples\": [\n          34.44254586656893,\n          33.9312613,\n          32736.0\n        ],\n        \"semantic_type\": \"\",\n        \"description\": \"\"\n      }\n    },\n    {\n      \"column\": \"longitude\",\n      \"properties\": {\n        \"dtype\": \"number\",\n        \"std\": 11600.468696698274,\n        \"min\": -121.9954211,\n        \"max\": 32736.0,\n        \"num_unique_values\": 8,\n        \"samples\": [\n          -90.64703348462854,\n          -81.4714142,\n          32736.0\n        ],\n        \"semantic_type\": \"\",\n        \"description\": \"\"\n      }\n    }\n  ]\n}",
              "type": "dataframe"
            },
            "text/html": [
              "\n",
              "  <div id=\"df-5145a5ba-dcba-4f9c-9141-ba150237145c\" class=\"colab-df-container\">\n",
              "    <div>\n",
              "<style scoped>\n",
              "    .dataframe tbody tr th:only-of-type {\n",
              "        vertical-align: middle;\n",
              "    }\n",
              "\n",
              "    .dataframe tbody tr th {\n",
              "        vertical-align: top;\n",
              "    }\n",
              "\n",
              "    .dataframe thead th {\n",
              "        text-align: right;\n",
              "    }\n",
              "</style>\n",
              "<table border=\"1\" class=\"dataframe\">\n",
              "  <thead>\n",
              "    <tr style=\"text-align: right;\">\n",
              "      <th></th>\n",
              "      <th>reviewer_id</th>\n",
              "      <th>latitude</th>\n",
              "      <th>longitude</th>\n",
              "    </tr>\n",
              "  </thead>\n",
              "  <tbody>\n",
              "    <tr>\n",
              "      <th>count</th>\n",
              "      <td>33396.000000</td>\n",
              "      <td>32736.000000</td>\n",
              "      <td>32736.000000</td>\n",
              "    </tr>\n",
              "    <tr>\n",
              "      <th>mean</th>\n",
              "      <td>16698.500000</td>\n",
              "      <td>34.442546</td>\n",
              "      <td>-90.647033</td>\n",
              "    </tr>\n",
              "    <tr>\n",
              "      <th>std</th>\n",
              "      <td>9640.739131</td>\n",
              "      <td>5.344116</td>\n",
              "      <td>16.594844</td>\n",
              "    </tr>\n",
              "    <tr>\n",
              "      <th>min</th>\n",
              "      <td>1.000000</td>\n",
              "      <td>25.790295</td>\n",
              "      <td>-121.995421</td>\n",
              "    </tr>\n",
              "    <tr>\n",
              "      <th>25%</th>\n",
              "      <td>8349.750000</td>\n",
              "      <td>28.655350</td>\n",
              "      <td>-97.792874</td>\n",
              "    </tr>\n",
              "    <tr>\n",
              "      <th>50%</th>\n",
              "      <td>16698.500000</td>\n",
              "      <td>33.931261</td>\n",
              "      <td>-81.471414</td>\n",
              "    </tr>\n",
              "    <tr>\n",
              "      <th>75%</th>\n",
              "      <td>25047.250000</td>\n",
              "      <td>40.727401</td>\n",
              "      <td>-75.399919</td>\n",
              "    </tr>\n",
              "    <tr>\n",
              "      <th>max</th>\n",
              "      <td>33396.000000</td>\n",
              "      <td>44.981410</td>\n",
              "      <td>-73.459820</td>\n",
              "    </tr>\n",
              "  </tbody>\n",
              "</table>\n",
              "</div>\n",
              "    <div class=\"colab-df-buttons\">\n",
              "\n",
              "  <div class=\"colab-df-container\">\n",
              "    <button class=\"colab-df-convert\" onclick=\"convertToInteractive('df-5145a5ba-dcba-4f9c-9141-ba150237145c')\"\n",
              "            title=\"Convert this dataframe to an interactive table.\"\n",
              "            style=\"display:none;\">\n",
              "\n",
              "  <svg xmlns=\"http://www.w3.org/2000/svg\" height=\"24px\" viewBox=\"0 -960 960 960\">\n",
              "    <path d=\"M120-120v-720h720v720H120Zm60-500h600v-160H180v160Zm220 220h160v-160H400v160Zm0 220h160v-160H400v160ZM180-400h160v-160H180v160Zm440 0h160v-160H620v160ZM180-180h160v-160H180v160Zm440 0h160v-160H620v160Z\"/>\n",
              "  </svg>\n",
              "    </button>\n",
              "\n",
              "  <style>\n",
              "    .colab-df-container {\n",
              "      display:flex;\n",
              "      gap: 12px;\n",
              "    }\n",
              "\n",
              "    .colab-df-convert {\n",
              "      background-color: #E8F0FE;\n",
              "      border: none;\n",
              "      border-radius: 50%;\n",
              "      cursor: pointer;\n",
              "      display: none;\n",
              "      fill: #1967D2;\n",
              "      height: 32px;\n",
              "      padding: 0 0 0 0;\n",
              "      width: 32px;\n",
              "    }\n",
              "\n",
              "    .colab-df-convert:hover {\n",
              "      background-color: #E2EBFA;\n",
              "      box-shadow: 0px 1px 2px rgba(60, 64, 67, 0.3), 0px 1px 3px 1px rgba(60, 64, 67, 0.15);\n",
              "      fill: #174EA6;\n",
              "    }\n",
              "\n",
              "    .colab-df-buttons div {\n",
              "      margin-bottom: 4px;\n",
              "    }\n",
              "\n",
              "    [theme=dark] .colab-df-convert {\n",
              "      background-color: #3B4455;\n",
              "      fill: #D2E3FC;\n",
              "    }\n",
              "\n",
              "    [theme=dark] .colab-df-convert:hover {\n",
              "      background-color: #434B5C;\n",
              "      box-shadow: 0px 1px 3px 1px rgba(0, 0, 0, 0.15);\n",
              "      filter: drop-shadow(0px 1px 2px rgba(0, 0, 0, 0.3));\n",
              "      fill: #FFFFFF;\n",
              "    }\n",
              "  </style>\n",
              "\n",
              "    <script>\n",
              "      const buttonEl =\n",
              "        document.querySelector('#df-5145a5ba-dcba-4f9c-9141-ba150237145c button.colab-df-convert');\n",
              "      buttonEl.style.display =\n",
              "        google.colab.kernel.accessAllowed ? 'block' : 'none';\n",
              "\n",
              "      async function convertToInteractive(key) {\n",
              "        const element = document.querySelector('#df-5145a5ba-dcba-4f9c-9141-ba150237145c');\n",
              "        const dataTable =\n",
              "          await google.colab.kernel.invokeFunction('convertToInteractive',\n",
              "                                                    [key], {});\n",
              "        if (!dataTable) return;\n",
              "\n",
              "        const docLinkHtml = 'Like what you see? Visit the ' +\n",
              "          '<a target=\"_blank\" href=https://colab.research.google.com/notebooks/data_table.ipynb>data table notebook</a>'\n",
              "          + ' to learn more about interactive tables.';\n",
              "        element.innerHTML = '';\n",
              "        dataTable['output_type'] = 'display_data';\n",
              "        await google.colab.output.renderOutput(dataTable, element);\n",
              "        const docLink = document.createElement('div');\n",
              "        docLink.innerHTML = docLinkHtml;\n",
              "        element.appendChild(docLink);\n",
              "      }\n",
              "    </script>\n",
              "  </div>\n",
              "\n",
              "\n",
              "    <div id=\"df-149534e5-1aa6-4869-9dde-f27c73fb62b0\">\n",
              "      <button class=\"colab-df-quickchart\" onclick=\"quickchart('df-149534e5-1aa6-4869-9dde-f27c73fb62b0')\"\n",
              "                title=\"Suggest charts\"\n",
              "                style=\"display:none;\">\n",
              "\n",
              "<svg xmlns=\"http://www.w3.org/2000/svg\" height=\"24px\"viewBox=\"0 0 24 24\"\n",
              "     width=\"24px\">\n",
              "    <g>\n",
              "        <path d=\"M19 3H5c-1.1 0-2 .9-2 2v14c0 1.1.9 2 2 2h14c1.1 0 2-.9 2-2V5c0-1.1-.9-2-2-2zM9 17H7v-7h2v7zm4 0h-2V7h2v10zm4 0h-2v-4h2v4z\"/>\n",
              "    </g>\n",
              "</svg>\n",
              "      </button>\n",
              "\n",
              "<style>\n",
              "  .colab-df-quickchart {\n",
              "      --bg-color: #E8F0FE;\n",
              "      --fill-color: #1967D2;\n",
              "      --hover-bg-color: #E2EBFA;\n",
              "      --hover-fill-color: #174EA6;\n",
              "      --disabled-fill-color: #AAA;\n",
              "      --disabled-bg-color: #DDD;\n",
              "  }\n",
              "\n",
              "  [theme=dark] .colab-df-quickchart {\n",
              "      --bg-color: #3B4455;\n",
              "      --fill-color: #D2E3FC;\n",
              "      --hover-bg-color: #434B5C;\n",
              "      --hover-fill-color: #FFFFFF;\n",
              "      --disabled-bg-color: #3B4455;\n",
              "      --disabled-fill-color: #666;\n",
              "  }\n",
              "\n",
              "  .colab-df-quickchart {\n",
              "    background-color: var(--bg-color);\n",
              "    border: none;\n",
              "    border-radius: 50%;\n",
              "    cursor: pointer;\n",
              "    display: none;\n",
              "    fill: var(--fill-color);\n",
              "    height: 32px;\n",
              "    padding: 0;\n",
              "    width: 32px;\n",
              "  }\n",
              "\n",
              "  .colab-df-quickchart:hover {\n",
              "    background-color: var(--hover-bg-color);\n",
              "    box-shadow: 0 1px 2px rgba(60, 64, 67, 0.3), 0 1px 3px 1px rgba(60, 64, 67, 0.15);\n",
              "    fill: var(--button-hover-fill-color);\n",
              "  }\n",
              "\n",
              "  .colab-df-quickchart-complete:disabled,\n",
              "  .colab-df-quickchart-complete:disabled:hover {\n",
              "    background-color: var(--disabled-bg-color);\n",
              "    fill: var(--disabled-fill-color);\n",
              "    box-shadow: none;\n",
              "  }\n",
              "\n",
              "  .colab-df-spinner {\n",
              "    border: 2px solid var(--fill-color);\n",
              "    border-color: transparent;\n",
              "    border-bottom-color: var(--fill-color);\n",
              "    animation:\n",
              "      spin 1s steps(1) infinite;\n",
              "  }\n",
              "\n",
              "  @keyframes spin {\n",
              "    0% {\n",
              "      border-color: transparent;\n",
              "      border-bottom-color: var(--fill-color);\n",
              "      border-left-color: var(--fill-color);\n",
              "    }\n",
              "    20% {\n",
              "      border-color: transparent;\n",
              "      border-left-color: var(--fill-color);\n",
              "      border-top-color: var(--fill-color);\n",
              "    }\n",
              "    30% {\n",
              "      border-color: transparent;\n",
              "      border-left-color: var(--fill-color);\n",
              "      border-top-color: var(--fill-color);\n",
              "      border-right-color: var(--fill-color);\n",
              "    }\n",
              "    40% {\n",
              "      border-color: transparent;\n",
              "      border-right-color: var(--fill-color);\n",
              "      border-top-color: var(--fill-color);\n",
              "    }\n",
              "    60% {\n",
              "      border-color: transparent;\n",
              "      border-right-color: var(--fill-color);\n",
              "    }\n",
              "    80% {\n",
              "      border-color: transparent;\n",
              "      border-right-color: var(--fill-color);\n",
              "      border-bottom-color: var(--fill-color);\n",
              "    }\n",
              "    90% {\n",
              "      border-color: transparent;\n",
              "      border-bottom-color: var(--fill-color);\n",
              "    }\n",
              "  }\n",
              "</style>\n",
              "\n",
              "      <script>\n",
              "        async function quickchart(key) {\n",
              "          const quickchartButtonEl =\n",
              "            document.querySelector('#' + key + ' button');\n",
              "          quickchartButtonEl.disabled = true;  // To prevent multiple clicks.\n",
              "          quickchartButtonEl.classList.add('colab-df-spinner');\n",
              "          try {\n",
              "            const charts = await google.colab.kernel.invokeFunction(\n",
              "                'suggestCharts', [key], {});\n",
              "          } catch (error) {\n",
              "            console.error('Error during call to suggestCharts:', error);\n",
              "          }\n",
              "          quickchartButtonEl.classList.remove('colab-df-spinner');\n",
              "          quickchartButtonEl.classList.add('colab-df-quickchart-complete');\n",
              "        }\n",
              "        (() => {\n",
              "          let quickchartButtonEl =\n",
              "            document.querySelector('#df-149534e5-1aa6-4869-9dde-f27c73fb62b0 button');\n",
              "          quickchartButtonEl.style.display =\n",
              "            google.colab.kernel.accessAllowed ? 'block' : 'none';\n",
              "        })();\n",
              "      </script>\n",
              "    </div>\n",
              "\n",
              "    </div>\n",
              "  </div>\n"
            ],
            "text/plain": [
              "        reviewer_id     latitude      longitude\n",
              "count  33396.000000  32736.000000  32736.000000\n",
              "mean   16698.500000     34.442546    -90.647033\n",
              "std     9640.739131      5.344116     16.594844\n",
              "min        1.000000     25.790295   -121.995421\n",
              "25%     8349.750000     28.655350    -97.792874\n",
              "50%    16698.500000     33.931261    -81.471414\n",
              "75%    25047.250000     40.727401    -75.399919\n",
              "max    33396.000000     44.981410    -73.459820"
            ]
          },
          "execution_count": 55,
          "metadata": {},
          "output_type": "execute_result"
        }
      ],
      "source": [
        "df.describe()"
      ]
    },
    {
      "cell_type": "code",
      "execution_count": null,
      "metadata": {
        "colab": {
          "background_save": true
        },
        "id": "53N7zrRNOIlQ",
        "outputId": "86c3ba2f-4c96-45ed-c6d3-49e762ac42d6"
      },
      "outputs": [
        {
          "data": {
            "text/html": [
              "<div>\n",
              "<style scoped>\n",
              "    .dataframe tbody tr th:only-of-type {\n",
              "        vertical-align: middle;\n",
              "    }\n",
              "\n",
              "    .dataframe tbody tr th {\n",
              "        vertical-align: top;\n",
              "    }\n",
              "\n",
              "    .dataframe thead th {\n",
              "        text-align: right;\n",
              "    }\n",
              "</style>\n",
              "<table border=\"1\" class=\"dataframe\">\n",
              "  <thead>\n",
              "    <tr style=\"text-align: right;\">\n",
              "      <th></th>\n",
              "      <th>count</th>\n",
              "    </tr>\n",
              "    <tr>\n",
              "      <th>rating</th>\n",
              "      <th></th>\n",
              "    </tr>\n",
              "  </thead>\n",
              "  <tbody>\n",
              "    <tr>\n",
              "      <th>5 stars</th>\n",
              "      <td>10274</td>\n",
              "    </tr>\n",
              "    <tr>\n",
              "      <th>1 star</th>\n",
              "      <td>9431</td>\n",
              "    </tr>\n",
              "    <tr>\n",
              "      <th>4 stars</th>\n",
              "      <td>5787</td>\n",
              "    </tr>\n",
              "    <tr>\n",
              "      <th>3 stars</th>\n",
              "      <td>4818</td>\n",
              "    </tr>\n",
              "    <tr>\n",
              "      <th>2 stars</th>\n",
              "      <td>3086</td>\n",
              "    </tr>\n",
              "  </tbody>\n",
              "</table>\n",
              "</div><br><label><b>dtype:</b> int64</label>"
            ],
            "text/plain": [
              "rating\n",
              "5 stars    10274\n",
              "1 star      9431\n",
              "4 stars     5787\n",
              "3 stars     4818\n",
              "2 stars     3086\n",
              "Name: count, dtype: int64"
            ]
          },
          "execution_count": 56,
          "metadata": {},
          "output_type": "execute_result"
        }
      ],
      "source": [
        "df['rating'].value_counts()"
      ]
    },
    {
      "cell_type": "code",
      "execution_count": null,
      "metadata": {
        "colab": {
          "base_uri": "https://localhost:8080/"
        },
        "id": "Ku89qHVhOPpS",
        "outputId": "aec53e08-c5e2-4de9-a88a-6c91dffea2d1"
      },
      "outputs": [
        {
          "name": "stdout",
          "output_type": "stream",
          "text": [
            "50    I went to this location tonight to see if they...\n",
            "51    Rude customer service, unprofessional attitude...\n",
            "52    Representative was very rude and disrespectful...\n",
            "53    They got our order correct and didn't cut me o...\n",
            "54    Good quick drive through service.  Was a long ...\n",
            "Name: review, dtype: object\n"
          ]
        }
      ],
      "source": [
        "print(df['review'].iloc[50:55])"
      ]
    },
    {
      "cell_type": "code",
      "execution_count": null,
      "metadata": {
        "colab": {
          "base_uri": "https://localhost:8080/"
        },
        "id": "Uc-pxO-9OZ0o",
        "outputId": "021abb4c-39e6-450f-f199-15d416e7c139"
      },
      "outputs": [
        {
          "name": "stdout",
          "output_type": "stream",
          "text": [
            "<class 'pandas.core.frame.DataFrame'>\n",
            "RangeIndex: 33396 entries, 0 to 33395\n",
            "Data columns (total 10 columns):\n",
            " #   Column         Non-Null Count  Dtype  \n",
            "---  ------         --------------  -----  \n",
            " 0   reviewer_id    33396 non-null  int64  \n",
            " 1   store_name     33396 non-null  object \n",
            " 2   category       33396 non-null  object \n",
            " 3   store_address  33396 non-null  object \n",
            " 4   latitude       32736 non-null  float64\n",
            " 5   longitude      32736 non-null  float64\n",
            " 6   rating_count   33396 non-null  object \n",
            " 7   review_time    33396 non-null  object \n",
            " 8   review         33396 non-null  object \n",
            " 9   rating         33396 non-null  object \n",
            "dtypes: float64(2), int64(1), object(7)\n",
            "memory usage: 2.5+ MB\n"
          ]
        }
      ],
      "source": [
        "df.dropna(subset=['review'], inplace=True)\n",
        "df.info()"
      ]
    },
    {
      "cell_type": "code",
      "execution_count": null,
      "metadata": {
        "colab": {
          "base_uri": "https://localhost:8080/"
        },
        "id": "0jzzymmZOfqS",
        "outputId": "6b9a5dbc-96a1-4ec4-a99b-ed322babe045"
      },
      "outputs": [
        {
          "name": "stdout",
          "output_type": "stream",
          "text": [
            "                                              review  \\\n",
            "0  why does it look like someone spit on my food?...   \n",
            "1  it'd mcdonalds. it is what it is as far as the...   \n",
            "2  made a mobile order got to the speaker and che...   \n",
            "3  my mc. crispy chicken sandwich was ï¿½ï¿½ï¿½ï¿...   \n",
            "4  i repeat my order 3 times in the drive thru, a...   \n",
            "\n",
            "                                      cleaned_review  \n",
            "0  why does it look like someone spit on my food\\...  \n",
            "1  itd mcdonalds it is what it is as far as the f...  \n",
            "2  made a mobile order got to the speaker and che...  \n",
            "3  my mc crispy chicken sandwich was  customer se...  \n",
            "4  i repeat my order  times in the drive thru and...  \n"
          ]
        }
      ],
      "source": [
        "import re\n",
        "\n",
        "# Convert to lowercase\n",
        "df['review'] = df['review'].str.lower()\n",
        "\n",
        "# Remove punctuation, numbers, and special characters\n",
        "df['cleaned_review'] = df['review'].apply(lambda x: re.sub(r'[^a-z\\s]', '', x))\n",
        "\n",
        "print(df[['review', 'cleaned_review']].head())"
      ]
    },
    {
      "cell_type": "code",
      "execution_count": null,
      "metadata": {
        "colab": {
          "base_uri": "https://localhost:8080/"
        },
        "id": "0RidpPYuOm_n",
        "outputId": "83f71b49-5963-406e-f86d-4ea54dec8c1d"
      },
      "outputs": [
        {
          "name": "stderr",
          "output_type": "stream",
          "text": [
            "[nltk_data] Downloading package punkt to /root/nltk_data...\n",
            "[nltk_data]   Package punkt is already up-to-date!\n",
            "[nltk_data] Downloading package stopwords to /root/nltk_data...\n",
            "[nltk_data]   Package stopwords is already up-to-date!\n",
            "[nltk_data] Downloading package punkt_tab to /root/nltk_data...\n",
            "[nltk_data]   Unzipping tokenizers/punkt_tab.zip.\n"
          ]
        },
        {
          "name": "stdout",
          "output_type": "stream",
          "text": [
            "                                      cleaned_review  \\\n",
            "0  why does it look like someone spit on my food\\...   \n",
            "1  itd mcdonalds it is what it is as far as the f...   \n",
            "2  made a mobile order got to the speaker and che...   \n",
            "3  my mc crispy chicken sandwich was  customer se...   \n",
            "4  i repeat my order  times in the drive thru and...   \n",
            "\n",
            "                                    processed_review  \n",
            "0  look like someone spit food normal transaction...  \n",
            "1  itd mcdonalds far food atmosphere go staff mak...  \n",
            "2  made mobile order got speaker checked line mov...  \n",
            "3  mc crispy chicken sandwich customer service qu...  \n",
            "4  repeat order times drive thru still manage mes...  \n"
          ]
        }
      ],
      "source": [
        "import nltk\n",
        "from nltk.corpus import stopwords\n",
        "nltk.download('punkt')\n",
        "nltk.download('stopwords')\n",
        "nltk.download('punkt_tab') # Add this line to download the missing resource\n",
        "\n",
        "\n",
        "stop_words = set(stopwords.words('english'))\n",
        "\n",
        "def tokenize_and_clean(text):\n",
        "    tokens = nltk.word_tokenize(text)\n",
        "    filtered_tokens = [word for word in tokens if word not in stop_words]\n",
        "    return \" \".join(filtered_tokens)\n",
        "\n",
        "df['processed_review'] = df['cleaned_review'].apply(tokenize_and_clean)\n",
        "print(df[['cleaned_review', 'processed_review']].head())"
      ]
    },
    {
      "cell_type": "code",
      "execution_count": null,
      "metadata": {
        "colab": {
          "base_uri": "https://localhost:8080/"
        },
        "id": "rKX_gwf0O-0B",
        "outputId": "ad8260fd-6053-43eb-9b21-21b6dd0353c1"
      },
      "outputs": [
        {
          "name": "stdout",
          "output_type": "stream",
          "text": [
            "Number of duplicate rows:\n",
            "0\n",
            "\n",
            "Number of missing values per column:\n",
            "reviewer_id           0\n",
            "store_name            0\n",
            "category              0\n",
            "store_address         0\n",
            "latitude            660\n",
            "longitude           660\n",
            "rating_count          0\n",
            "review_time           0\n",
            "review                0\n",
            "rating                0\n",
            "cleaned_review        0\n",
            "processed_review      0\n",
            "dtype: int64\n"
          ]
        }
      ],
      "source": [
        "import pandas as pd\n",
        "import os\n",
        "\n",
        "# Check for and count duplicate rows\n",
        "print(\"Number of duplicate rows:\")\n",
        "print(df.duplicated().sum())\n",
        "\n",
        "# Remove duplicates\n",
        "df.drop_duplicates(inplace=True)\n",
        "\n",
        "# Check for and count missing values per column\n",
        "print(\"\\nNumber of missing values per column:\")\n",
        "print(df.isnull().sum())"
      ]
    },
    {
      "cell_type": "markdown",
      "metadata": {
        "id": "g6hlOjizPdNN"
      },
      "source": [
        "# **Data Visualization**"
      ]
    },
    {
      "cell_type": "code",
      "execution_count": null,
      "metadata": {
        "colab": {
          "background_save": true
        },
        "id": "KecUFHd4PfYD",
        "outputId": "06dda45b-dd29-4e89-c705-130f64f137c5"
      },
      "outputs": [
        {
          "name": "stderr",
          "output_type": "stream",
          "text": [
            "/tmp/ipython-input-3610007137.py:6: FutureWarning: \n",
            "\n",
            "Passing `palette` without assigning `hue` is deprecated and will be removed in v0.14.0. Assign the `x` variable to `hue` and set `legend=False` for the same effect.\n",
            "\n",
            "  sns.countplot(x='rating', data=df, palette='viridis')\n"
          ]
        },
        {
          "data": {
            "image/png": "[encoded data removed]",
            "text/plain": [
              "<Figure size 800x600 with 1 Axes>"
            ]
          },
          "metadata": {},
          "output_type": "display_data"
        }
      ],
      "source": [
        "import matplotlib.pyplot as plt\n",
        "import seaborn as sns\n",
        "\n",
        "# Create a bar plot of the rating counts\n",
        "plt.figure(figsize=(8, 6))\n",
        "sns.countplot(x='rating', data=df, palette='viridis')\n",
        "plt.title('Distribution of McDonald\\'s Store Ratings', fontsize=16)\n",
        "plt.xlabel('Rating', fontsize=12)\n",
        "plt.ylabel('Count', fontsize=12)\n",
        "plt.grid(axis='y', linestyle='--', alpha=0.7)\n",
        "plt.tight_layout()\n",
        "plt.show()"
      ]
    },
    {
      "cell_type": "markdown",
      "metadata": {
        "id": "_wWyeIhnPjO7"
      },
      "source": [
        "# **Machine Learning**"
      ]
    },
    {
      "cell_type": "markdown",
      "metadata": {
        "id": "LUu0ul7QQgRJ"
      },
      "source": [
        "## Data split"
      ]
    },
    {
      "cell_type": "code",
      "execution_count": null,
      "metadata": {
        "colab": {
          "base_uri": "https://localhost:8080/"
        },
        "id": "cQc431IIQe1h",
        "outputId": "eb0ff035-abf5-49b4-b029-c1f6d2503ca2"
      },
      "outputs": [
        {
          "name": "stdout",
          "output_type": "stream",
          "text": [
            "Shape of X_train: (26716, 5000)\n",
            "Shape of X_test: (6680, 5000)\n"
          ]
        }
      ],
      "source": [
        "from sklearn.model_selection import train_test_split\n",
        "\n",
        "X = tfidf_matrix\n",
        "y = df['rating']\n",
        "\n",
        "\n",
        "X_train, X_test, y_train, y_test = train_test_split(X, y, test_size=0.2, random_state=42)\n",
        "\n",
        "print(\"Shape of X_train:\", X_train.shape)\n",
        "print(\"Shape of X_test:\", X_test.shape)"
      ]
    },
    {
      "cell_type": "markdown",
      "metadata": {
        "id": "oYL8iAUDRbFn"
      },
      "source": [
        "## Train model"
      ]
    },
    {
      "cell_type": "code",
      "execution_count": null,
      "metadata": {
        "colab": {
          "base_uri": "https://localhost:8080/"
        },
        "id": "e17a3df8",
        "outputId": "55bf82e7-01dc-45ca-a2b5-7a3bfe09db65"
      },
      "outputs": [
        {
          "name": "stdout",
          "output_type": "stream",
          "text": [
            "Shape of TF-IDF matrix: (33396, 5000)\n"
          ]
        }
      ],
      "source": [
        "from sklearn.feature_extraction.text import TfidfVectorizer\n",
        "\n",
        "# Initialize TF-IDF Vectorizer\n",
        "tfidf_vectorizer = TfidfVectorizer(max_features=5000)  # You can adjust max_features as needed\n",
        "\n",
        "# Fit and transform the 'processed_review' column\n",
        "tfidf_matrix = tfidf_vectorizer.fit_transform(df['processed_review'])\n",
        "\n",
        "print(\"Shape of TF-IDF matrix:\", tfidf_matrix.shape)"
      ]
    },
    {
      "cell_type": "code",
      "execution_count": null,
      "metadata": {
        "id": "TRI9Z0bPRGQ_"
      },
      "outputs": [],
      "source": [
        "from sklearn.linear_model import LogisticRegression\n",
        "from sklearn.metrics import classification_report, accuracy_score\n",
        "\n",
        "model = LogisticRegression(max_iter=1000)\n",
        "model.fit(X_train, y_train)\n",
        "\n",
        "\n",
        "y_pred = model.predict(X_test)"
      ]
    },
    {
      "cell_type": "markdown",
      "metadata": {
        "id": "hFBLKZzNRgDT"
      },
      "source": [
        "## Evaluate model"
      ]
    },
    {
      "cell_type": "code",
      "execution_count": null,
      "metadata": {
        "colab": {
          "base_uri": "https://localhost:8080/"
        },
        "id": "_rJK-qBYRicV",
        "outputId": "eb3ee0b7-15df-42c8-dcbe-c47b4da8fdc1"
      },
      "outputs": [
        {
          "name": "stdout",
          "output_type": "stream",
          "text": [
            "Accuracy: 0.6531437125748503\n",
            "\n",
            "Classification Report:\n",
            "               precision    recall  f1-score   support\n",
            "\n",
            "      1 star       0.69      0.89      0.78      1898\n",
            "     2 stars       0.52      0.17      0.26       645\n",
            "     3 stars       0.56      0.43      0.49       939\n",
            "     4 stars       0.54      0.42      0.47      1146\n",
            "     5 stars       0.70      0.81      0.75      2052\n",
            "\n",
            "    accuracy                           0.65      6680\n",
            "   macro avg       0.60      0.55      0.55      6680\n",
            "weighted avg       0.63      0.65      0.63      6680\n",
            "\n"
          ]
        }
      ],
      "source": [
        "\n",
        "print(\"Accuracy:\", accuracy_score(y_test, y_pred))\n",
        "print(\"\\nClassification Report:\\n\", classification_report(y_test, y_pred))"
      ]
    },
    {
      "cell_type": "markdown",
      "metadata": {
        "id": "mHx-KEtXSXY_"
      },
      "source": [
        "## Data Imbalance Fix"
      ]
    },
    {
      "cell_type": "code",
      "execution_count": null,
      "metadata": {
        "colab": {
          "base_uri": "https://localhost:8080/"
        },
        "id": "qYQ3EjX8SaQ3",
        "outputId": "fc0743f6-2f6a-494b-8b90-16b85dd981ea"
      },
      "outputs": [
        {
          "name": "stdout",
          "output_type": "stream",
          "text": [
            "Accuracy Score: 0.6161676646706586\n",
            "\n",
            "Classification Report:\n",
            "               precision    recall  f1-score   support\n",
            "\n",
            "      1 star       0.77      0.74      0.76      1898\n",
            "     2 stars       0.32      0.45      0.37       645\n",
            "     3 stars       0.46      0.50      0.48       939\n",
            "     4 stars       0.49      0.51      0.50      1146\n",
            "     5 stars       0.78      0.66      0.72      2052\n",
            "\n",
            "    accuracy                           0.62      6680\n",
            "   macro avg       0.57      0.57      0.57      6680\n",
            "weighted avg       0.64      0.62      0.63      6680\n",
            "\n"
          ]
        }
      ],
      "source": [
        "from sklearn.linear_model import LogisticRegression\n",
        "\n",
        "model = LogisticRegression(max_iter=1000, class_weight='balanced')\n",
        "model.fit(X_train, y_train)\n",
        "\n",
        "# Make and evaluate predictions again\n",
        "y_pred = model.predict(X_test)\n",
        "print(\"Accuracy Score:\", accuracy_score(y_test, y_pred))\n",
        "print(\"\\nClassification Report:\\n\", classification_report(y_test, y_pred))"
      ]
    },
    {
      "cell_type": "code",
      "execution_count": null,
      "metadata": {
        "id": "BOtZUtRYVd0Z"
      },
      "outputs": [],
      "source": [
        "from sklearn.ensemble import RandomForestClassifier\n",
        "from sklearn.metrics import classification_report, accuracy_score"
      ]
    },
    {
      "cell_type": "code",
      "execution_count": null,
      "metadata": {
        "colab": {
          "base_uri": "https://localhost:8080/"
        },
        "id": "09YivNAMWEGt",
        "outputId": "bbe694c8-1aa9-4927-fd84-b6b5c10947ed"
      },
      "outputs": [
        {
          "name": "stdout",
          "output_type": "stream",
          "text": [
            "Random Forest Accuracy: 0.698502994011976\n",
            "\n",
            "Random Forest Classification Report:\n",
            "               precision    recall  f1-score   support\n",
            "\n",
            "      1 star       0.68      0.93      0.79      1898\n",
            "     2 stars       0.88      0.34      0.49       645\n",
            "     3 stars       0.69      0.46      0.55       939\n",
            "     4 stars       0.71      0.44      0.55      1146\n",
            "     5 stars       0.70      0.86      0.77      2052\n",
            "\n",
            "    accuracy                           0.70      6680\n",
            "   macro avg       0.73      0.60      0.63      6680\n",
            "weighted avg       0.71      0.70      0.68      6680\n",
            "\n"
          ]
        }
      ],
      "source": [
        "from sklearn.model_selection import train_test_split\n",
        "from sklearn.feature_extraction.text import TfidfVectorizer\n",
        "from sklearn.ensemble import RandomForestClassifier\n",
        "from sklearn.metrics import classification_report, accuracy_score\n",
        "\n",
        "\n",
        "X = df['processed_review']\n",
        "y = df['rating']\n",
        "\n",
        "X_train, X_test, y_train, y_test = train_test_split(X, y, test_size=0.2, random_state=42)\n",
        "\n",
        "\n",
        "tfidf_vectorizer = TfidfVectorizer(max_features=5000)\n",
        "X_train_tfidf = tfidf_vectorizer.fit_transform(X_train)\n",
        "X_test_tfidf = tfidf_vectorizer.transform(X_test)\n",
        "\n",
        "#Train the model\n",
        "random_forest_model = RandomForestClassifier(n_estimators=100, random_state=42)\n",
        "random_forest_model.fit(X_train_tfidf, y_train)\n",
        "\n",
        "#Evaluate the model\n",
        "y_pred_rf = random_forest_model.predict(X_test_tfidf)\n",
        "\n",
        "print(\"Random Forest Accuracy:\", accuracy_score(y_test, y_pred_rf))\n",
        "print(\"\\nRandom Forest Classification Report:\\n\", classification_report(y_test, y_pred_rf))"
      ]
    },
    {
      "cell_type": "markdown",
      "metadata": {
        "id": "KGFrx3Ceb533"
      },
      "source": [
        "## Fine tune"
      ]
    },
    {
      "cell_type": "code",
      "execution_count": null,
      "metadata": {
        "colab": {
          "base_uri": "https://localhost:8080/"
        },
        "id": "SyXD_JMnb5kl",
        "outputId": "19a613f1-95d8-4e29-b8fe-baa6240474d5"
      },
      "outputs": [
        {
          "name": "stdout",
          "output_type": "stream",
          "text": [
            "Fitting 5 folds for each of 36 candidates, totalling 180 fits\n",
            "Best Parameters: {'max_depth': None, 'min_samples_split': 10, 'n_estimators': 100}\n",
            "Best Cross-Validation Score: 0.6848706713468067\n"
          ]
        }
      ],
      "source": [
        "from sklearn.model_selection import GridSearchCV\n",
        "from sklearn.ensemble import RandomForestClassifier\n",
        "\n",
        "# Define the hyperparameters you want to tune\n",
        "param_grid = {\n",
        "    'n_estimators': [100, 200, 300],\n",
        "    'max_depth': [10, 20, 30, None],\n",
        "    'min_samples_split': [2, 5, 10]\n",
        "}\n",
        "\n",
        "# Initialize the grid search with your model\n",
        "grid_search = GridSearchCV(\n",
        "    RandomForestClassifier(random_state=42),\n",
        "    param_grid,\n",
        "    cv=5, # Cross-validation folds\n",
        "    scoring='accuracy',\n",
        "    n_jobs=-1, # Use all available cores\n",
        "    verbose=1\n",
        ")\n",
        "\n",
        "# Run the grid search\n",
        "grid_search.fit(X_train_tfidf, y_train)\n",
        "\n",
        "# Print the best parameters and the best score\n",
        "print(\"Best Parameters:\", grid_search.best_params_)\n",
        "print(\"Best Cross-Validation Score:\", grid_search.best_score_)"
      ]
    },
    {
      "cell_type": "markdown",
      "metadata": {
        "id": "2Hvd5psMlmLp"
      },
      "source": [
        "Evaluate again"
      ]
    },
    {
      "cell_type": "code",
      "execution_count": null,
      "metadata": {
        "colab": {
          "background_save": true,
          "base_uri": "https://localhost:8080/"
        },
        "id": "XwAhx7B1mLjf",
        "outputId": "09144bd8-e713-49a2-aae4-0c50c7472bed"
      },
      "outputs": [
        {
          "name": "stdout",
          "output_type": "stream",
          "text": [
            "Fitting 5 folds for each of 36 candidates, totalling 180 fits\n",
            "Final Model Accuracy: 0.7007485029940119\n",
            "\n",
            "Final Classification Report:\n",
            "               precision    recall  f1-score   support\n",
            "\n",
            "      1 star       0.68      0.93      0.79      1898\n",
            "     2 stars       0.93      0.33      0.48       645\n",
            "     3 stars       0.69      0.46      0.55       939\n",
            "     4 stars       0.72      0.44      0.54      1146\n",
            "     5 stars       0.70      0.86      0.77      2052\n",
            "\n",
            "    accuracy                           0.70      6680\n",
            "   macro avg       0.74      0.60      0.63      6680\n",
            "weighted avg       0.72      0.70      0.68      6680\n",
            "\n"
          ]
        }
      ],
      "source": [
        "from sklearn.model_selection import GridSearchCV\n",
        "from sklearn.ensemble import RandomForestClassifier\n",
        "from sklearn.metrics import classification_report, accuracy_score\n",
        "\n",
        "# Define the hyperparameters you want to tune\n",
        "param_grid = {\n",
        "    'n_estimators': [100, 200, 300],\n",
        "    'max_depth': [10, 20, 30, None],\n",
        "    'min_samples_split': [2, 5, 10]\n",
        "}\n",
        "\n",
        "# Initialize the grid search\n",
        "grid_search = GridSearchCV(\n",
        "    RandomForestClassifier(random_state=42),\n",
        "    param_grid,\n",
        "    cv=5,\n",
        "    scoring='accuracy',\n",
        "    n_jobs=-1,\n",
        "    verbose=1\n",
        ")\n",
        "\n",
        "# Run the grid search\n",
        "grid_search.fit(X_train_tfidf, y_train)\n",
        "\n",
        "# Get the best model\n",
        "best_model = grid_search.best_estimator_\n",
        "\n",
        "# Make predictions using the best model\n",
        "y_pred_final = best_model.predict(X_test_tfidf)\n",
        "\n",
        "# Evaluate its performance\n",
        "print(\"Final Model Accuracy:\", accuracy_score(y_test, y_pred_final))\n",
        "print(\"\\nFinal Classification Report:\\n\", classification_report(y_test, y_pred_final))"
      ]
    },
    {
      "cell_type": "markdown",
      "metadata": {
        "id": "httEPcU0Fbc5"
      },
      "source": [
        "# **Feature Importance**"
      ]
    },
    {
      "cell_type": "code",
      "execution_count": null,
      "metadata": {
        "colab": {
          "background_save": true,
          "base_uri": "https://localhost:8080/"
        },
        "id": "aO7xIdoPFex0",
        "outputId": "d86bfc33-349b-48f0-9457-6167162093a0"
      },
      "outputs": [
        {
          "name": "stderr",
          "output_type": "stream",
          "text": [
            "[nltk_data] Downloading package punkt to /root/nltk_data...\n",
            "[nltk_data]   Package punkt is already up-to-date!\n",
            "[nltk_data] Downloading package stopwords to /root/nltk_data...\n",
            "[nltk_data]   Package stopwords is already up-to-date!\n",
            "[nltk_data] Downloading package punkt_tab to /root/nltk_data...\n",
            "[nltk_data]   Unzipping tokenizers/punkt_tab.zip.\n"
          ]
        },
        {
          "name": "stdout",
          "output_type": "stream",
          "text": [
            "Fitting 5 folds for each of 36 candidates, totalling 180 fits\n",
            "Top 10 Most Important Features:\n",
            "        feature  importance\n",
            "1852       good    0.051784\n",
            "1465  excellent    0.051271\n",
            "2860    neutral    0.040314\n",
            "3263       poor    0.018625\n",
            "4371   terrible    0.017030\n",
            "1876      great    0.013369\n",
            "4943      worst    0.012112\n",
            "1557       fast    0.009484\n",
            "1680       food    0.008763\n",
            "3693       rude    0.008668\n",
            "\n",
            "Bottom 10 Least Important Features:\n",
            "           feature  importance\n",
            "1068       danisha         0.0\n",
            "1340           edc         0.0\n",
            "2665     mechanism         0.0\n",
            "4645  undertrained         0.0\n",
            "2730          mike         0.0\n",
            "1112     defensive         0.0\n",
            "1462       examine         0.0\n",
            "635   catastrophic         0.0\n",
            "647             cb         0.0\n",
            "497            bri         0.0\n"
          ]
        }
      ],
      "source": [
        "import pandas as pd\n",
        "import numpy as np\n",
        "from sklearn.feature_extraction.text import TfidfVectorizer\n",
        "import os\n",
        "import kagglehub\n",
        "from sklearn.model_selection import train_test_split\n",
        "from sklearn.ensemble import RandomForestClassifier\n",
        "from sklearn.model_selection import GridSearchCV\n",
        "\n",
        "# Load the dataframe\n",
        "path = kagglehub.dataset_download(\"nelgiriyewithana/mcdonalds-store-reviews\")\n",
        "file_name = 'McDonald_s_Reviews.csv'\n",
        "full_file_path = os.path.join(path, file_name)\n",
        "df = pd.read_csv(full_file_path, encoding='latin1')\n",
        "\n",
        "# Clean the dataframe (including text processing)\n",
        "df.dropna(subset=['review'], inplace=True)\n",
        "df['review'] = df['review'].str.lower()\n",
        "import re\n",
        "df['cleaned_review'] = df['review'].apply(lambda x: re.sub(r'[^a-z\\s]', '', x))\n",
        "import nltk\n",
        "from nltk.corpus import stopwords\n",
        "nltk.download('punkt')\n",
        "nltk.download('stopwords')\n",
        "nltk.download('punkt_tab')  # Download the missing resource\n",
        "stop_words = set(stopwords.words('english'))\n",
        "def tokenize_and_clean(text):\n",
        "    tokens = nltk.word_tokenize(text)\n",
        "    filtered_tokens = [word for word in tokens if word not in stop_words]\n",
        "    return \" \".join(filtered_tokens)\n",
        "df['processed_review'] = df['cleaned_review'].apply(tokenize_and_clean)\n",
        "\n",
        "# Split data and vectorize\n",
        "X = df['processed_review']\n",
        "y = df['rating']\n",
        "X_train, X_test, y_train, y_test = train_test_split(X, y, test_size=0.2, random_state=42)\n",
        "tfidf_vectorizer = TfidfVectorizer(max_features=5000)\n",
        "X_train_tfidf = tfidf_vectorizer.fit_transform(X_train)\n",
        "X_test_tfidf = tfidf_vectorizer.transform(X_test)\n",
        "\n",
        "# Get the best model from grid search\n",
        "param_grid = {\n",
        "    'n_estimators': [100, 200, 300],\n",
        "    'max_depth': [10, 20, 30, None],\n",
        "    'min_samples_split': [2, 5, 10]\n",
        "}\n",
        "grid_search = GridSearchCV(\n",
        "    RandomForestClassifier(random_state=42),\n",
        "    param_grid,\n",
        "    cv=5,\n",
        "    scoring='accuracy',\n",
        "    n_jobs=-1,\n",
        "    verbose=1\n",
        ")\n",
        "grid_search.fit(X_train_tfidf, y_train)\n",
        "best_model = grid_search.best_estimator_\n",
        "\n",
        "# Get the feature names from your TF-IDF vectorizer\n",
        "feature_names = tfidf_vectorizer.get_feature_names_out()\n",
        "\n",
        "# Get the feature importances from the best model\n",
        "importances = best_model.feature_importances_\n",
        "\n",
        "# Create a DataFrame to link words to their importance scores\n",
        "feature_importance_df = pd.DataFrame({\n",
        "    'feature': feature_names,\n",
        "    'importance': importances\n",
        "}).sort_values('importance', ascending=False)\n",
        "\n",
        "# Display the top 10 most important features\n",
        "print(\"Top 10 Most Important Features:\")\n",
        "print(feature_importance_df.head(10))\n",
        "\n",
        "# Display the bottom 10 (least important) features for contrast\n",
        "print(\"\\nBottom 10 Least Important Features:\")\n",
        "print(feature_importance_df.tail(10))"
      ]
    },
    {
      "cell_type": "code",
      "source": [
        "\n",
        "\n",
        "import matplotlib.pyplot as plt\n",
        "import seaborn as sns\n",
        "\n",
        "sns.barplot(x='importance', y='feature', data=feature_importance_df.head(20))\n",
        "plt.title('Top 20 Most Important Features')\n",
        "plt.show()"
      ],
      "metadata": {
        "colab": {
          "base_uri": "https://localhost:8080/",
          "height": 233
        },
        "id": "MuCoWZi_er5g",
        "outputId": "d1c167cb-b43d-412b-a35a-5825f3202158"
      },
      "execution_count": null,
      "outputs": [
        {
          "output_type": "display_data",
          "data": {
            "text/plain": [
              "<Figure size 640x480 with 1 Axes>"
            ],
            "image/png": "[encoded data removed]"
          },
          "metadata": {}
        }
      ]
    },
    {
      "cell_type": "markdown",
      "source": [
        "# **Conclusion**"
      ],
      "metadata": {
        "id": "nYQlvJdliPSz"
      }
    },
    {
      "cell_type": "markdown",
      "source": [
        "​Reinforce What Works: Continue to maintain high standards for food quality and staff friendliness. Perhaps implement a system to recognize employees who consistently receive positive feedback.\n",
        "\n",
        "​Investigate Inconsistencies: The presence of both positive and negative words related to service and food indicates a lack of consistency. The store manager should investigate why some experiences are positive while others are not. This could involve looking at factors like peak hours, staff shortages, or training gaps.\n",
        "\n",
        "​Address the Core Issues: The top negative words are a direct signal to address the root cause of these \"terrible\" and \"horrible\" experiences. This could mean improving quality control, resolving common complaints, or providing more detailed feedback to staff."
      ],
      "metadata": {
        "id": "ULgpDj3iiRF_"
      }
    }
  ],
  "metadata": {
    "colab": {
      "provenance": [],
      "authorship_tag": "ABX9TyMy5iMS75Ekb68vsH2g/4qv",
      "include_colab_link": true
    },
    "kernelspec": {
      "display_name": "Python 3",
      "name": "python3"
    },
    "language_info": {
      "name": "python"
    }
  },
  "nbformat": 4,
  "nbformat_minor": 0
}